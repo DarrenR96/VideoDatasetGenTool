{
 "cells": [
  {
   "cell_type": "code",
   "execution_count": 1,
   "source": [
    "# imports \n",
    "import os \n",
    "import subprocess"
   ],
   "outputs": [],
   "metadata": {}
  },
  {
   "cell_type": "code",
   "execution_count": 5,
   "source": [
    "directory = '/home/ramsookd/DatasetGeneration/testDataLogs/'\n",
    "files = os.listdir(directory)\n",
    "\n",
    "print(files)\n",
    "for videoFile in files:\n",
    "    desiredLocation = '/home/ramsookd/DatasetGeneration/testDataYUV/'\n",
    "    nameWithoutExt, _ = os.path.splitext(videoFile)\n",
    "    location = os.path.join(directory, videoFile)\n",
    "    desiredLocation = os.path.join(desiredLocation, nameWithoutExt)\n",
    "    command = f\"ffmpeg -y -i {location} -c:v rawvideo -pix_fmt yuv420p {desiredLocation}.yuv\"\n",
    "    codecRun = subprocess.Popen(command, stderr=subprocess.PIPE, stdout=subprocess.PIPE, shell=True, cwd='/')\n",
    "    processOut, processErr = codecRun.communicate()\n",
    "    codecRun.wait()\n",
    "    print(f\"File {nameWithoutExt} done processing\")\n"
   ],
   "outputs": [
    {
     "output_type": "stream",
     "name": "stdout",
     "text": [
      "['Animation_720P-79ee.mkv', 'Animation_720P-7b29.mkv', 'Animation_720P-7ff2.mkv', 'Animation_720P-7e7d.mkv']\n",
      "File Animation_720P-79ee done processing\n",
      "File Animation_720P-7b29 done processing\n",
      "File Animation_720P-7ff2 done processing\n",
      "File Animation_720P-7e7d done processing\n"
     ]
    }
   ],
   "metadata": {}
  },
  {
   "cell_type": "code",
   "execution_count": null,
   "source": [],
   "outputs": [],
   "metadata": {}
  }
 ],
 "metadata": {
  "orig_nbformat": 4,
  "kernelspec": {
   "name": "python3",
   "display_name": "Python 3",
   "language": "python"
  },
  "language_info": {
   "name": "python",
   "version": "3.8.5",
   "mimetype": "text/x-python",
   "codemirror_mode": {
    "name": "ipython",
    "version": 3
   },
   "pygments_lexer": "ipython3",
   "nbconvert_exporter": "python",
   "file_extension": ".py"
  }
 },
 "nbformat": 4,
 "nbformat_minor": 2
}